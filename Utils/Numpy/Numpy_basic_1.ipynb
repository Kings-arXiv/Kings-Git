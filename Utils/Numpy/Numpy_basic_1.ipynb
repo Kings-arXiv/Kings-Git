{
  "nbformat": 4,
  "nbformat_minor": 0,
  "metadata": {
    "colab": {
      "provenance": [],
      "collapsed_sections": [],
      "toc_visible": true
    },
    "kernelspec": {
      "name": "python3",
      "display_name": "Python 3"
    },
    "language_info": {
      "name": "python"
    }
  },
  "cells": [
    {
      "cell_type": "markdown",
      "source": [
        "# Numpy 기본 1\n",
        "\n"
      ],
      "metadata": {
        "id": "dtwIhBBeYjgQ"
      }
    },
    {
      "cell_type": "code",
      "execution_count": 1,
      "metadata": {
        "id": "HLZY5bYUYcIO",
        "colab": {
          "base_uri": "https://localhost:8080/"
        },
        "outputId": "678d665e-4ebd-4927-ba54-cc2908921d0c"
      },
      "outputs": [
        {
          "output_type": "stream",
          "name": "stdout",
          "text": [
            "1.21.6\n"
          ]
        }
      ],
      "source": [
        "import numpy as np\n",
        "print(np.__version__)"
      ]
    },
    {
      "cell_type": "markdown",
      "source": [
        "## 1. Numpy 자료형"
      ],
      "metadata": {
        "id": "w7pzOo73gD2j"
      }
    },
    {
      "cell_type": "markdown",
      "source": [
        "### 1.1 정수형"
      ],
      "metadata": {
        "id": "h_isfnsYgGxe"
      }
    },
    {
      "cell_type": "code",
      "source": [
        "Z1 = np.int8(1)\n",
        "print(Z1, type(Z1))"
      ],
      "metadata": {
        "id": "aqkLwEFWgDhz",
        "colab": {
          "base_uri": "https://localhost:8080/"
        },
        "outputId": "ca8660aa-374b-43ed-b224-cec0e48742c8"
      },
      "execution_count": 2,
      "outputs": [
        {
          "output_type": "stream",
          "name": "stdout",
          "text": [
            "1 <class 'numpy.int8'>\n"
          ]
        }
      ]
    },
    {
      "cell_type": "code",
      "source": [
        "Z2 = np.int64(-17)\n",
        "print(Z2, type(Z2))"
      ],
      "metadata": {
        "id": "YE_48kUjhMZt",
        "colab": {
          "base_uri": "https://localhost:8080/"
        },
        "outputId": "8e62b48d-603f-4d9f-9e59-33c3749c379a"
      },
      "execution_count": 3,
      "outputs": [
        {
          "output_type": "stream",
          "name": "stdout",
          "text": [
            "-17 <class 'numpy.int64'>\n"
          ]
        }
      ]
    },
    {
      "cell_type": "code",
      "source": [
        "N1 = np.uint32(100)\n",
        "print(N1, type(N1))"
      ],
      "metadata": {
        "id": "WDngF-fjh8z4",
        "colab": {
          "base_uri": "https://localhost:8080/"
        },
        "outputId": "8109f83a-a41d-401d-ec69-99fc05c3d8e1"
      },
      "execution_count": 4,
      "outputs": [
        {
          "output_type": "stream",
          "name": "stdout",
          "text": [
            "100 <class 'numpy.uint32'>\n"
          ]
        }
      ]
    },
    {
      "cell_type": "code",
      "source": [
        "N2 = np.ulonglong(2e+17)\n",
        "print(N2, type(N2))"
      ],
      "metadata": {
        "id": "1Q9dr0YAictC",
        "colab": {
          "base_uri": "https://localhost:8080/"
        },
        "outputId": "7ec07c53-e9be-440c-d9ec-8eed06c73d6b"
      },
      "execution_count": 5,
      "outputs": [
        {
          "output_type": "stream",
          "name": "stdout",
          "text": [
            "200000000000000000 <class 'numpy.ulonglong'>\n"
          ]
        }
      ]
    },
    {
      "cell_type": "markdown",
      "source": [
        "### 1.2 실수형"
      ],
      "metadata": {
        "id": "OWwAxQg3gc-p"
      }
    },
    {
      "cell_type": "code",
      "source": [
        "R1 = np.float32(0.357346)\n",
        "print(R1, type(R1))"
      ],
      "metadata": {
        "id": "jwhHMnxIkYIn",
        "colab": {
          "base_uri": "https://localhost:8080/"
        },
        "outputId": "0687fa53-5caf-486a-9999-89211e72360e"
      },
      "execution_count": 6,
      "outputs": [
        {
          "output_type": "stream",
          "name": "stdout",
          "text": [
            "0.357346 <class 'numpy.float32'>\n"
          ]
        }
      ]
    },
    {
      "cell_type": "code",
      "source": [
        "R2 = np.double(1/7)\n",
        "print(R2, type(R2))"
      ],
      "metadata": {
        "id": "OvvSLOcQkYPT",
        "colab": {
          "base_uri": "https://localhost:8080/"
        },
        "outputId": "90ac4cfe-d154-4991-df17-59928cb23b26"
      },
      "execution_count": 7,
      "outputs": [
        {
          "output_type": "stream",
          "name": "stdout",
          "text": [
            "0.14285714285714285 <class 'numpy.float64'>\n"
          ]
        }
      ]
    },
    {
      "cell_type": "code",
      "source": [
        "R3 = np.longdouble(3.4e-9)\n",
        "print(R3, type(R3))"
      ],
      "metadata": {
        "id": "xl8q3E3ek050",
        "colab": {
          "base_uri": "https://localhost:8080/"
        },
        "outputId": "b63f38dc-e250-461a-9699-69fb4e9765d3"
      },
      "execution_count": 8,
      "outputs": [
        {
          "output_type": "stream",
          "name": "stdout",
          "text": [
            "3.3999999999999998395e-09 <class 'numpy.float128'>\n"
          ]
        }
      ]
    },
    {
      "cell_type": "markdown",
      "source": [
        "### 1.3 복소수형"
      ],
      "metadata": {
        "id": "YoY4382LtfZ6"
      }
    },
    {
      "cell_type": "code",
      "source": [
        "C1 = np.complex64(1.3 + 3.4j)\n",
        "print(C1, type(C1))"
      ],
      "metadata": {
        "id": "jAImvka9lJWq",
        "colab": {
          "base_uri": "https://localhost:8080/"
        },
        "outputId": "6c375f84-c08a-4406-efbc-46a2050ee84b"
      },
      "execution_count": 9,
      "outputs": [
        {
          "output_type": "stream",
          "name": "stdout",
          "text": [
            "(1.3+3.4j) <class 'numpy.complex64'>\n"
          ]
        }
      ]
    },
    {
      "cell_type": "code",
      "source": [
        "C2 = np.cdouble(4.61 + 123.5j)\n",
        "print(C2, type(C2))"
      ],
      "metadata": {
        "id": "cnF9r7cCuQmP",
        "colab": {
          "base_uri": "https://localhost:8080/"
        },
        "outputId": "1da390dc-40a7-4020-a373-df713db7e3b8"
      },
      "execution_count": 10,
      "outputs": [
        {
          "output_type": "stream",
          "name": "stdout",
          "text": [
            "(4.61+123.5j) <class 'numpy.complex128'>\n"
          ]
        }
      ]
    },
    {
      "cell_type": "markdown",
      "source": [
        "### 1.4 논리형"
      ],
      "metadata": {
        "id": "_zIGxLvCumin"
      }
    },
    {
      "cell_type": "code",
      "source": [
        "B1 = np.bool_(False)\n",
        "print(B1, type(B1))"
      ],
      "metadata": {
        "id": "1vsU_fQ9upvr",
        "colab": {
          "base_uri": "https://localhost:8080/"
        },
        "outputId": "e511a008-f303-47da-ec2a-005646f7bd85"
      },
      "execution_count": 11,
      "outputs": [
        {
          "output_type": "stream",
          "name": "stdout",
          "text": [
            "False <class 'numpy.bool_'>\n"
          ]
        }
      ]
    },
    {
      "cell_type": "code",
      "source": [
        "B2 = np.bool_(3)\n",
        "print(B2, type(B2))"
      ],
      "metadata": {
        "id": "vMePEm8uxyqw",
        "colab": {
          "base_uri": "https://localhost:8080/"
        },
        "outputId": "c05df8f4-e90c-469b-fb90-b5063774ff8a"
      },
      "execution_count": 12,
      "outputs": [
        {
          "output_type": "stream",
          "name": "stdout",
          "text": [
            "True <class 'numpy.bool_'>\n"
          ]
        }
      ]
    },
    {
      "cell_type": "markdown",
      "source": [
        "### 1.5 날짜형"
      ],
      "metadata": {
        "id": "OXGK5HBRwBDM"
      }
    },
    {
      "cell_type": "code",
      "source": [
        "D1 = np.datetime64('1996')\n",
        "print(D1, type(D1))"
      ],
      "metadata": {
        "id": "8b2RWdjTup21",
        "colab": {
          "base_uri": "https://localhost:8080/"
        },
        "outputId": "89219c63-d07f-4334-81bf-10abfac0026d"
      },
      "execution_count": 13,
      "outputs": [
        {
          "output_type": "stream",
          "name": "stdout",
          "text": [
            "1996 <class 'numpy.datetime64'>\n"
          ]
        }
      ]
    },
    {
      "cell_type": "code",
      "source": [
        "D2 = np.datetime64(481, 'M')\n",
        "print(D2, type(D2))"
      ],
      "metadata": {
        "id": "6-cRPIddwP4S",
        "colab": {
          "base_uri": "https://localhost:8080/"
        },
        "outputId": "5f8ea602-5965-4aff-f16b-06a99eead53d"
      },
      "execution_count": 14,
      "outputs": [
        {
          "output_type": "stream",
          "name": "stdout",
          "text": [
            "2010-02 <class 'numpy.datetime64'>\n"
          ]
        }
      ]
    },
    {
      "cell_type": "code",
      "source": [
        "D3 = np.datetime64(18973, 'D')\n",
        "print(D3, type(D3))"
      ],
      "metadata": {
        "id": "u8hXsgxtwdES",
        "colab": {
          "base_uri": "https://localhost:8080/"
        },
        "outputId": "830f157a-dd66-487d-f426-e2c1c3d4c145"
      },
      "execution_count": 15,
      "outputs": [
        {
          "output_type": "stream",
          "name": "stdout",
          "text": [
            "2021-12-12 <class 'numpy.datetime64'>\n"
          ]
        }
      ]
    },
    {
      "cell_type": "markdown",
      "source": [
        "### 1.6 문자형"
      ],
      "metadata": {
        "id": "zeGRhUDpxCqI"
      }
    },
    {
      "cell_type": "code",
      "source": [
        "S1 = np.str_('Hello')\n",
        "print(S1, type(S1))"
      ],
      "metadata": {
        "id": "brIPYCVPxBVj",
        "colab": {
          "base_uri": "https://localhost:8080/"
        },
        "outputId": "1ac5f43f-9466-4e9e-d240-3cc6a5c1bd2c"
      },
      "execution_count": 16,
      "outputs": [
        {
          "output_type": "stream",
          "name": "stdout",
          "text": [
            "Hello <class 'numpy.str_'>\n"
          ]
        }
      ]
    },
    {
      "cell_type": "code",
      "source": [
        "U1 = np.unicode_('안녕')\n",
        "print(U1, type(U1))"
      ],
      "metadata": {
        "id": "wUKXjwpSy2QH",
        "colab": {
          "base_uri": "https://localhost:8080/"
        },
        "outputId": "2ba6104c-9dca-4b90-842e-1b60973519c2"
      },
      "execution_count": 17,
      "outputs": [
        {
          "output_type": "stream",
          "name": "stdout",
          "text": [
            "안녕 <class 'numpy.str_'>\n"
          ]
        }
      ]
    },
    {
      "cell_type": "markdown",
      "source": [
        "### 1.7 기타"
      ],
      "metadata": {
        "id": "NP54xVwX08-R"
      }
    },
    {
      "cell_type": "code",
      "source": [
        "V1 = np.void(0)\n",
        "print(V1, type(V1))"
      ],
      "metadata": {
        "id": "PJb4NxY61Chu",
        "colab": {
          "base_uri": "https://localhost:8080/"
        },
        "outputId": "f4e978ff-af50-449f-c355-be22fa7b4a3a"
      },
      "execution_count": 18,
      "outputs": [
        {
          "output_type": "stream",
          "name": "stdout",
          "text": [
            "b'' <class 'numpy.void'>\n"
          ]
        }
      ]
    },
    {
      "cell_type": "markdown",
      "source": [
        "## 2. 상수"
      ],
      "metadata": {
        "id": "BSu_jsE1eCYJ"
      }
    },
    {
      "cell_type": "markdown",
      "source": [
        "### 2.1 무한대"
      ],
      "metadata": {
        "id": "KMuIOye-eQff"
      }
    },
    {
      "cell_type": "code",
      "source": [
        "E1 = np.inf\n",
        "print(E1, type(E1))"
      ],
      "metadata": {
        "id": "yCmNi5_bKXwb",
        "colab": {
          "base_uri": "https://localhost:8080/"
        },
        "outputId": "c8f8ebbb-79d7-45d7-9eb9-957c4bed9c9c"
      },
      "execution_count": 19,
      "outputs": [
        {
          "output_type": "stream",
          "name": "stdout",
          "text": [
            "inf <class 'float'>\n"
          ]
        }
      ]
    },
    {
      "cell_type": "code",
      "source": [
        "E2 = np.NINF\n",
        "print(E2, type(E2))"
      ],
      "metadata": {
        "id": "6byY9ZZhKdly",
        "colab": {
          "base_uri": "https://localhost:8080/"
        },
        "outputId": "753f8a78-f4ab-4091-f460-d22040a0d00f"
      },
      "execution_count": 20,
      "outputs": [
        {
          "output_type": "stream",
          "name": "stdout",
          "text": [
            "-inf <class 'float'>\n"
          ]
        }
      ]
    },
    {
      "cell_type": "markdown",
      "source": [
        "### 2.2 ZERO"
      ],
      "metadata": {
        "id": "9kWNDoNpKwze"
      }
    },
    {
      "cell_type": "code",
      "source": [
        "E3 = np.PZERO\n",
        "print(E3, type(E3))"
      ],
      "metadata": {
        "id": "v41ATRoaKjwD",
        "colab": {
          "base_uri": "https://localhost:8080/"
        },
        "outputId": "3a5ba48c-80f5-491e-a4c8-215132852d36"
      },
      "execution_count": 21,
      "outputs": [
        {
          "output_type": "stream",
          "name": "stdout",
          "text": [
            "0.0 <class 'float'>\n"
          ]
        }
      ]
    },
    {
      "cell_type": "code",
      "source": [
        "E4 = np.NZERO\n",
        "print(E4, type(E4))"
      ],
      "metadata": {
        "id": "37fZ6O1hLLpj",
        "colab": {
          "base_uri": "https://localhost:8080/"
        },
        "outputId": "74a100fa-45ee-4c94-e495-f08d139dcc50"
      },
      "execution_count": 22,
      "outputs": [
        {
          "output_type": "stream",
          "name": "stdout",
          "text": [
            "-0.0 <class 'float'>\n"
          ]
        }
      ]
    },
    {
      "cell_type": "markdown",
      "source": [
        "### 2.3 NAN"
      ],
      "metadata": {
        "id": "zQ1pPsoxLVrK"
      }
    },
    {
      "cell_type": "code",
      "source": [
        "E5 = np.nan\n",
        "print(E5, type(E5))"
      ],
      "metadata": {
        "id": "ZBuRQuZCLQg6",
        "colab": {
          "base_uri": "https://localhost:8080/"
        },
        "outputId": "436a8f0f-514f-4263-b73e-640f261f6d6b"
      },
      "execution_count": 23,
      "outputs": [
        {
          "output_type": "stream",
          "name": "stdout",
          "text": [
            "nan <class 'float'>\n"
          ]
        }
      ]
    },
    {
      "cell_type": "markdown",
      "source": [
        "### 2.4 수학상수"
      ],
      "metadata": {
        "id": "_Bvov3AsLraN"
      }
    },
    {
      "cell_type": "code",
      "source": [
        "PI = np.pi\n",
        "print(PI, type(PI))"
      ],
      "metadata": {
        "id": "3wvD2IYlLeIK",
        "colab": {
          "base_uri": "https://localhost:8080/"
        },
        "outputId": "79c7591b-9a4f-4b25-ea55-ad084b39ca77"
      },
      "execution_count": 24,
      "outputs": [
        {
          "output_type": "stream",
          "name": "stdout",
          "text": [
            "3.141592653589793 <class 'float'>\n"
          ]
        }
      ]
    },
    {
      "cell_type": "code",
      "source": [
        "EX = np.e\n",
        "print(EX, type(EX))"
      ],
      "metadata": {
        "id": "oUCM6yr1Lw6T",
        "colab": {
          "base_uri": "https://localhost:8080/"
        },
        "outputId": "7a0859d5-1dab-4f2e-f582-7c278282c17f"
      },
      "execution_count": 25,
      "outputs": [
        {
          "output_type": "stream",
          "name": "stdout",
          "text": [
            "2.718281828459045 <class 'float'>\n"
          ]
        }
      ]
    },
    {
      "cell_type": "code",
      "source": [
        "EG = np.euler_gamma\n",
        "print(EG, type(EG))"
      ],
      "metadata": {
        "id": "V06vClZyZZBr",
        "colab": {
          "base_uri": "https://localhost:8080/"
        },
        "outputId": "ee96b327-31ef-4c57-c7ef-187540da7c21"
      },
      "execution_count": 26,
      "outputs": [
        {
          "output_type": "stream",
          "name": "stdout",
          "text": [
            "0.5772156649015329 <class 'float'>\n"
          ]
        }
      ]
    },
    {
      "cell_type": "markdown",
      "source": [
        "## 3. 자료형 관련 함수"
      ],
      "metadata": {
        "id": "aHTMb1ryZqYG"
      }
    },
    {
      "cell_type": "markdown",
      "source": [
        "### 3.1 데이터 유형 확인"
      ],
      "metadata": {
        "id": "DsHCc_IWZtyG"
      }
    },
    {
      "cell_type": "code",
      "source": [
        "print(Z1.dtype)"
      ],
      "metadata": {
        "colab": {
          "base_uri": "https://localhost:8080/"
        },
        "id": "2X5_VgeOZjsk",
        "outputId": "35967b63-f281-45c1-8bcd-71c6497fe897"
      },
      "execution_count": 27,
      "outputs": [
        {
          "output_type": "stream",
          "name": "stdout",
          "text": [
            "int8\n"
          ]
        }
      ]
    },
    {
      "cell_type": "code",
      "source": [
        "print(C1.dtype)"
      ],
      "metadata": {
        "colab": {
          "base_uri": "https://localhost:8080/"
        },
        "id": "G1JkmHb9ah4U",
        "outputId": "5e67ad9e-621d-4f16-c74b-999c253c0b86"
      },
      "execution_count": 28,
      "outputs": [
        {
          "output_type": "stream",
          "name": "stdout",
          "text": [
            "complex64\n"
          ]
        }
      ]
    },
    {
      "cell_type": "code",
      "source": [
        "print(D1.dtype)"
      ],
      "metadata": {
        "colab": {
          "base_uri": "https://localhost:8080/"
        },
        "id": "lvKMlVqCdsLH",
        "outputId": "141581e3-27ed-4938-90b7-4dc0fea30dde"
      },
      "execution_count": 29,
      "outputs": [
        {
          "output_type": "stream",
          "name": "stdout",
          "text": [
            "datetime64[Y]\n"
          ]
        }
      ]
    },
    {
      "cell_type": "code",
      "source": [
        "print(S1.dtype)"
      ],
      "metadata": {
        "colab": {
          "base_uri": "https://localhost:8080/"
        },
        "id": "J5xt_ndEajpM",
        "outputId": "ba93edf6-b46a-4806-fb97-08b72ee5ec41"
      },
      "execution_count": 30,
      "outputs": [
        {
          "output_type": "stream",
          "name": "stdout",
          "text": [
            "<U5\n"
          ]
        }
      ]
    },
    {
      "cell_type": "code",
      "source": [
        "print(U1.dtype)"
      ],
      "metadata": {
        "colab": {
          "base_uri": "https://localhost:8080/"
        },
        "id": "p0W4bQ5pak3c",
        "outputId": "0e6fd90f-6ba9-41d9-c9eb-767385601674"
      },
      "execution_count": 31,
      "outputs": [
        {
          "output_type": "stream",
          "name": "stdout",
          "text": [
            "<U2\n"
          ]
        }
      ]
    },
    {
      "cell_type": "markdown",
      "source": [
        "### 3.2 데이터 유형 바꾸기"
      ],
      "metadata": {
        "id": "WndYam1zbRG_"
      }
    },
    {
      "cell_type": "code",
      "source": [
        "R4 = Z1.astype(float)\n",
        "print(R4, R4.dtype)"
      ],
      "metadata": {
        "id": "e7ItrWBhbKtU",
        "colab": {
          "base_uri": "https://localhost:8080/"
        },
        "outputId": "0f3e6992-0ec3-426e-b96f-054fe7dcca93"
      },
      "execution_count": 32,
      "outputs": [
        {
          "output_type": "stream",
          "name": "stdout",
          "text": [
            "1.0 float64\n"
          ]
        }
      ]
    },
    {
      "cell_type": "code",
      "source": [
        "C3 = R1.astype(np.complex64)\n",
        "print(C3, C3.dtype)"
      ],
      "metadata": {
        "id": "-iT63I5Td4OM",
        "colab": {
          "base_uri": "https://localhost:8080/"
        },
        "outputId": "1646efc2-96e3-43ba-b52e-dd21d54d7144"
      },
      "execution_count": 33,
      "outputs": [
        {
          "output_type": "stream",
          "name": "stdout",
          "text": [
            "(0.357346+0j) complex64\n"
          ]
        }
      ]
    },
    {
      "cell_type": "code",
      "source": [
        "Z3 = D1.astype(np.int64)\n",
        "print(Z3, Z3.dtype)"
      ],
      "metadata": {
        "id": "e9I9okNpeFds",
        "colab": {
          "base_uri": "https://localhost:8080/"
        },
        "outputId": "495ca654-69a2-4b73-82c3-773ef301b626"
      },
      "execution_count": 34,
      "outputs": [
        {
          "output_type": "stream",
          "name": "stdout",
          "text": [
            "26 int64\n"
          ]
        }
      ]
    },
    {
      "cell_type": "code",
      "source": [
        "S2 = R3.astype('str')\n",
        "print(S2, S2.dtype)"
      ],
      "metadata": {
        "id": "qMoKrcAbebcr",
        "colab": {
          "base_uri": "https://localhost:8080/"
        },
        "outputId": "7bed8006-d2f3-475d-9454-84b50585d226"
      },
      "execution_count": 35,
      "outputs": [
        {
          "output_type": "stream",
          "name": "stdout",
          "text": [
            "3.3999999999999998395e-09 <U25\n"
          ]
        }
      ]
    },
    {
      "cell_type": "code",
      "source": [
        "N3 = R2.astype('int32')\n",
        "print(N3, N3.dtype)"
      ],
      "metadata": {
        "id": "yk9Xbl4Res10",
        "colab": {
          "base_uri": "https://localhost:8080/"
        },
        "outputId": "82ec003c-fecc-49a5-ea78-15d93d68ed44"
      },
      "execution_count": 36,
      "outputs": [
        {
          "output_type": "stream",
          "name": "stdout",
          "text": [
            "0 int32\n"
          ]
        }
      ]
    },
    {
      "cell_type": "markdown",
      "source": [
        "### 3.3 범위 확인"
      ],
      "metadata": {
        "id": "8e6SE2byfPXq"
      }
    },
    {
      "cell_type": "code",
      "source": [
        "print(np.iinfo(np.int64))"
      ],
      "metadata": {
        "colab": {
          "base_uri": "https://localhost:8080/"
        },
        "id": "boCTkzjYe5I9",
        "outputId": "d22d4929-4dc9-4c9a-c52e-17eaad52015f"
      },
      "execution_count": 37,
      "outputs": [
        {
          "output_type": "stream",
          "name": "stdout",
          "text": [
            "Machine parameters for int64\n",
            "---------------------------------------------------------------\n",
            "min = -9223372036854775808\n",
            "max = 9223372036854775807\n",
            "---------------------------------------------------------------\n",
            "\n"
          ]
        }
      ]
    },
    {
      "cell_type": "code",
      "source": [
        "print(np.iinfo(np.uint64))"
      ],
      "metadata": {
        "colab": {
          "base_uri": "https://localhost:8080/"
        },
        "id": "KyU7OJ-XgBS0",
        "outputId": "cae5a741-fd0c-4bf6-f277-9af755c6c04f"
      },
      "execution_count": 38,
      "outputs": [
        {
          "output_type": "stream",
          "name": "stdout",
          "text": [
            "Machine parameters for uint64\n",
            "---------------------------------------------------------------\n",
            "min = 0\n",
            "max = 18446744073709551615\n",
            "---------------------------------------------------------------\n",
            "\n"
          ]
        }
      ]
    },
    {
      "cell_type": "code",
      "source": [
        "print(np.finfo(np.float64))"
      ],
      "metadata": {
        "colab": {
          "base_uri": "https://localhost:8080/"
        },
        "id": "0-6UsetEf7aV",
        "outputId": "ffbb7557-29e7-4d3a-b19a-998f1b8e1c05"
      },
      "execution_count": 39,
      "outputs": [
        {
          "output_type": "stream",
          "name": "stdout",
          "text": [
            "Machine parameters for float64\n",
            "---------------------------------------------------------------\n",
            "precision =  15   resolution = 1.0000000000000001e-15\n",
            "machep =    -52   eps =        2.2204460492503131e-16\n",
            "negep =     -53   epsneg =     1.1102230246251565e-16\n",
            "minexp =  -1022   tiny =       2.2250738585072014e-308\n",
            "maxexp =   1024   max =        1.7976931348623157e+308\n",
            "nexp =       11   min =        -max\n",
            "---------------------------------------------------------------\n",
            "\n"
          ]
        }
      ]
    },
    {
      "cell_type": "code",
      "source": [
        "print(np.finfo(np.complex64))"
      ],
      "metadata": {
        "colab": {
          "base_uri": "https://localhost:8080/"
        },
        "id": "2kdXTF7Tf-D0",
        "outputId": "88a17788-830d-4eac-9d67-6f7ed77b2d8a"
      },
      "execution_count": 40,
      "outputs": [
        {
          "output_type": "stream",
          "name": "stdout",
          "text": [
            "Machine parameters for float32\n",
            "---------------------------------------------------------------\n",
            "precision =   6   resolution = 1.0000000e-06\n",
            "machep =    -23   eps =        1.1920929e-07\n",
            "negep =     -24   epsneg =     5.9604645e-08\n",
            "minexp =   -126   tiny =       1.1754944e-38\n",
            "maxexp =    128   max =        3.4028235e+38\n",
            "nexp =        8   min =        -max\n",
            "---------------------------------------------------------------\n",
            "\n"
          ]
        }
      ]
    }
  ]
}